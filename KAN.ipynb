{
 "cells": [
  {
   "cell_type": "markdown",
   "id": "134e7f9d",
   "metadata": {},
   "source": [
    "# Example 3: Deep Formulas\n",
    "\n",
    "The orignal Kolmogorov-Arnold theorem says that it suffices to have 2-Layer function composition (inner and outer functions), but the functions might be non-smooth or even fractal. We generalize KA representation to arbitrary depths. An example a 2-Layer KAN (with smooth activations) is unable to do is: $f(x_1,x_2,x_3,x_4)={\\rm exp}({\\rm sin}(x_1^2+x_2^2)+{\\rm sin}(x_3^2+x_4^2))$, which requires at least 3-Layer KANs."
   ]
  },
  {
   "cell_type": "markdown",
   "id": "7854503c",
   "metadata": {},
   "source": [
    "### Three-layer KAN"
   ]
  },
  {
   "cell_type": "code",
   "execution_count": 24,
   "id": "2075ef56",
   "metadata": {},
   "outputs": [
    {
     "name": "stdout",
     "output_type": "stream",
     "text": [
      "cpu\n",
      "checkpoint directory created: ./model\n",
      "saving model version 0.0\n"
     ]
    },
    {
     "name": "stderr",
     "output_type": "stream",
     "text": [
      "| train_loss: 3.50e+02 | test_loss: 7.85e+02 | reg: 4.23e+04 | : 100%|█| 20/20 [00:13<00:00,  1.51it"
     ]
    },
    {
     "name": "stdout",
     "output_type": "stream",
     "text": [
      "saving model version 0.1\n"
     ]
    },
    {
     "name": "stderr",
     "output_type": "stream",
     "text": [
      "\n"
     ]
    }
   ],
   "source": [
    "from kan import *\n",
    "\n",
    "device = torch.device('cuda' if torch.cuda.is_available() else 'cpu')\n",
    "print(device)\n",
    "\n",
    "# create a KAN: 4D inputs, 1D output, and 5 hidden neurons. cubic spline (k=3), 3 grid intervals (grid=3).\n",
    "model = KAN(width=[4,2,1,1], grid=3, k=3, seed=1, device=device)\n",
    "f = lambda X: X[:, 0] / (X[:, 1] * X[:, 2]) + X[:, 3]\n",
    "dataset = create_dataset(f, n_var=4,ranges=[[0,0.5], [0, 0.5], [0, 0.5], [0, 0.5]], train_num=3000, device=device)\n",
    "\n",
    "# train the model\n",
    "model.fit(dataset, opt=\"LBFGS\", steps=20, lamb=0.002, lamb_entropy=2.);"
   ]
  },
  {
   "cell_type": "code",
   "execution_count": 25,
   "id": "b8c880c1",
   "metadata": {},
   "outputs": [
    {
     "name": "stdout",
     "output_type": "stream",
     "text": [
      "saving model version 0.2\n"
     ]
    }
   ],
   "source": [
    "model = model.prune(edge_th=1e-2)"
   ]
  },
  {
   "cell_type": "code",
   "execution_count": 26,
   "id": "585b699c",
   "metadata": {},
   "outputs": [
    {
     "data": {
      "image/png": "[encoded data removed]",
      "text/plain": [
       "<Figure size 500x600 with 16 Axes>"
      ]
     },
     "metadata": {},
     "output_type": "display_data"
    }
   ],
   "source": [
    "model.plot()"
   ]
  },
  {
   "cell_type": "code",
   "execution_count": 27,
   "id": "ee39c97b",
   "metadata": {},
   "outputs": [
    {
     "name": "stdout",
     "output_type": "stream",
     "text": [
      "saving model version 0.3\n"
     ]
    },
    {
     "name": "stderr",
     "output_type": "stream",
     "text": [
      "| train_loss: 3.43e+02 | test_loss: 9.41e+02 | reg: 4.23e+04 | : 100%|█| 50/50 [00:16<00:00,  2.95it\n"
     ]
    },
    {
     "name": "stdout",
     "output_type": "stream",
     "text": [
      "saving model version 0.4\n",
      "saving model version 0.5\n"
     ]
    },
    {
     "name": "stderr",
     "output_type": "stream",
     "text": [
      "| train_loss: 3.43e+02 | test_loss: 8.31e+02 | reg: 4.23e+04 | : 100%|█| 50/50 [00:10<00:00,  4.90it\n"
     ]
    },
    {
     "name": "stdout",
     "output_type": "stream",
     "text": [
      "saving model version 0.6\n",
      "saving model version 0.7\n"
     ]
    },
    {
     "name": "stderr",
     "output_type": "stream",
     "text": [
      "| train_loss: 3.43e+02 | test_loss: 8.25e+02 | reg: 4.22e+04 | : 100%|█| 50/50 [00:08<00:00,  5.73it\n"
     ]
    },
    {
     "name": "stdout",
     "output_type": "stream",
     "text": [
      "saving model version 0.8\n",
      "saving model version 0.9\n"
     ]
    },
    {
     "name": "stderr",
     "output_type": "stream",
     "text": [
      "| train_loss: 3.43e+02 | test_loss: 8.25e+02 | reg: 4.22e+04 | : 100%|█| 50/50 [00:08<00:00,  5.67it\n"
     ]
    },
    {
     "name": "stdout",
     "output_type": "stream",
     "text": [
      "saving model version 0.10\n",
      "saving model version 0.11\n"
     ]
    },
    {
     "name": "stderr",
     "output_type": "stream",
     "text": [
      "| train_loss: 3.45e+02 | test_loss: 7.66e+02 | reg: 4.23e+04 | : 100%|█| 50/50 [00:16<00:00,  3.01it"
     ]
    },
    {
     "name": "stdout",
     "output_type": "stream",
     "text": [
      "saving model version 0.12\n"
     ]
    },
    {
     "name": "stderr",
     "output_type": "stream",
     "text": [
      "\n"
     ]
    }
   ],
   "source": [
    "grids = [3,5,10,20,50]\n",
    "#grids = [5]\n",
    "\n",
    "train_rmse = []\n",
    "test_rmse = []\n",
    "\n",
    "for i in range(len(grids)):\n",
    "    #model = KAN(width=[4,2,1,1], grid=grids[i], k=3, seed=0, device=device).initialize_from_another_model(model, dataset['train_input'])\n",
    "    model = model.refine(new_grid=grids[i])#revised from grid=grids[i]\n",
    "    results = model.fit(dataset, opt=\"LBFGS\", steps=50, stop_grid_update_step=20);\n",
    "    train_rmse.append(results['train_loss'][-1].item())\n",
    "    test_rmse.append(results['test_loss'][-1].item())"
   ]
  },
  {
   "cell_type": "markdown",
   "id": "8c345302-c8bc-4585-8022-c5d90eb64341",
   "metadata": {},
   "source": [
    "Author's note: The scaling isn't optimal. Possibly because of updates on curve2coef, to be investigated. "
   ]
  },
  {
   "cell_type": "code",
   "execution_count": 28,
   "id": "94f3930a",
   "metadata": {},
   "outputs": [
    {
     "name": "stdout",
     "output_type": "stream",
     "text": [
      "[343.15240478515625, 343.30206298828125, 343.29595947265625, 343.2921447753906, 344.65264892578125]\n",
      "[940.9426879882812, 830.5997314453125, 825.468994140625, 824.5484008789062, 765.9797973632812]\n"
     ]
    },
    {
     "data": {
      "image/png": "[encoded data removed]",
      "text/plain": [
       "<Figure size 640x480 with 1 Axes>"
      ]
     },
     "metadata": {},
     "output_type": "display_data"
    }
   ],
   "source": [
    "import numpy as np\n",
    "import matplotlib.pyplot as plt\n",
    "\n",
    "n_params = np.array(grids) * (4*2+2*1+1*1)\n",
    "plt.plot(n_params, train_rmse, marker=\"o\")\n",
    "plt.plot(n_params, test_rmse, marker=\"o\")\n",
    "plt.plot(n_params, 10000*n_params**(-4.), color=\"black\", ls=\"--\")\n",
    "plt.legend(['train', 'test', r'$N^{-4}$'], loc=\"lower left\")\n",
    "plt.xscale('log')\n",
    "plt.yscale('log')\n",
    "print(train_rmse)\n",
    "print(test_rmse)"
   ]
  },
  {
   "cell_type": "markdown",
   "id": "f53644fe",
   "metadata": {},
   "source": []
  },
  {
   "cell_type": "code",
   "execution_count": 29,
   "id": "ae7b654b",
   "metadata": {},
   "outputs": [
    {
     "name": "stdout",
     "output_type": "stream",
     "text": [
      "fixing (0,0,0) with 0, r2=0.0, c=0\n",
      "fixing (0,0,1) with sin, r2=0.9981764554977417, c=2\n",
      "fixing (0,1,0) with 0, r2=0.0, c=0\n",
      "fixing (0,1,1) with 0, r2=0.0, c=0\n",
      "fixing (0,2,0) with cos, r2=0.9991976022720337, c=2\n",
      "fixing (0,2,1) with 0, r2=0.0, c=0\n",
      "fixing (0,3,0) with 0, r2=0.0, c=0\n",
      "fixing (0,3,1) with 0, r2=0.0, c=0\n",
      "fixing (1,0,0) with 0, r2=0.0, c=0\n",
      "fixing (1,1,0) with 0, r2=0.0, c=0\n",
      "fixing (2,0,0) with exp, r2=0.9979711771011353, c=2\n",
      "saving model version 0.13\n"
     ]
    }
   ],
   "source": [
    "model.auto_symbolic()"
   ]
  },
  {
   "cell_type": "code",
   "execution_count": 30,
   "id": "869828f2",
   "metadata": {},
   "outputs": [
    {
     "data": {
      "text/latex": [
       "$\\displaystyle 23.5241$"
      ],
      "text/plain": [
       "23.5241"
      ]
     },
     "execution_count": 30,
     "metadata": {},
     "output_type": "execute_result"
    }
   ],
   "source": [
    "ex_round(model.symbolic_formula()[0][0],4)"
   ]
  },
  {
   "cell_type": "code",
   "execution_count": null,
   "id": "4f0a99fd",
   "metadata": {},
   "outputs": [],
   "source": []
  },
  {
   "cell_type": "code",
   "execution_count": null,
   "id": "5776b6e1",
   "metadata": {},
   "outputs": [],
   "source": []
  }
 ],
 "metadata": {
  "kernelspec": {
   "display_name": "conelab",
   "language": "python",
   "name": "python3"
  },
  "language_info": {
   "codemirror_mode": {
    "name": "ipython",
    "version": 3
   },
   "file_extension": ".py",
   "mimetype": "text/x-python",
   "name": "python",
   "nbconvert_exporter": "python",
   "pygments_lexer": "ipython3",
   "version": "3.10.16"
  }
 },
 "nbformat": 4,
 "nbformat_minor": 5
}
